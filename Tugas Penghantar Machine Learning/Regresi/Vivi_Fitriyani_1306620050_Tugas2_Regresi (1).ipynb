{
 "cells": [
  {
   "cell_type": "markdown",
   "metadata": {
    "id": "yLFAi6D-XXe5"
   },
   "source": [
    "#<CENTER>**REGRESI**"
   ]
  },
  {
   "cell_type": "markdown",
   "metadata": {
    "id": "fPuypHSYVjkP"
   },
   "source": [
    "> Nama : Vivi Fitriyani\n",
    "\n",
    "> NIM : 1306620050\n",
    "\n",
    "> Mata Kuliah : Machine Learning\n",
    "\n",
    "> Tugas 2 Regresi"
   ]
  },
  {
   "cell_type": "code",
   "execution_count": 24,
   "metadata": {
    "colab": {
     "base_uri": "https://localhost:8080/",
     "height": 423
    },
    "id": "Pr-vQIFakazS",
    "outputId": "885a8432-9978-48ff-c61b-0c34751a6086"
   },
   "outputs": [
    {
     "data": {
      "text/html": [
       "\n",
       "  <div id=\"df-b828d7bf-4dcc-45c7-a9f6-084aa1fa3e5b\">\n",
       "    <div class=\"colab-df-container\">\n",
       "      <div>\n",
       "<style scoped>\n",
       "    .dataframe tbody tr th:only-of-type {\n",
       "        vertical-align: middle;\n",
       "    }\n",
       "\n",
       "    .dataframe tbody tr th {\n",
       "        vertical-align: top;\n",
       "    }\n",
       "\n",
       "    .dataframe thead th {\n",
       "        text-align: right;\n",
       "    }\n",
       "</style>\n",
       "<table border=\"1\" class=\"dataframe\">\n",
       "  <thead>\n",
       "    <tr style=\"text-align: right;\">\n",
       "      <th></th>\n",
       "      <th>x</th>\n",
       "      <th>y</th>\n",
       "    </tr>\n",
       "  </thead>\n",
       "  <tbody>\n",
       "    <tr>\n",
       "      <th>0</th>\n",
       "      <td>0.0</td>\n",
       "      <td>0.198677</td>\n",
       "    </tr>\n",
       "    <tr>\n",
       "      <th>1</th>\n",
       "      <td>0.1</td>\n",
       "      <td>0.484592</td>\n",
       "    </tr>\n",
       "    <tr>\n",
       "      <th>2</th>\n",
       "      <td>0.2</td>\n",
       "      <td>-0.367602</td>\n",
       "    </tr>\n",
       "    <tr>\n",
       "      <th>3</th>\n",
       "      <td>0.3</td>\n",
       "      <td>0.667027</td>\n",
       "    </tr>\n",
       "    <tr>\n",
       "      <th>4</th>\n",
       "      <td>0.4</td>\n",
       "      <td>0.354572</td>\n",
       "    </tr>\n",
       "    <tr>\n",
       "      <th>...</th>\n",
       "      <td>...</td>\n",
       "      <td>...</td>\n",
       "    </tr>\n",
       "    <tr>\n",
       "      <th>95</th>\n",
       "      <td>9.5</td>\n",
       "      <td>-0.367354</td>\n",
       "    </tr>\n",
       "    <tr>\n",
       "      <th>96</th>\n",
       "      <td>9.6</td>\n",
       "      <td>-0.342010</td>\n",
       "    </tr>\n",
       "    <tr>\n",
       "      <th>97</th>\n",
       "      <td>9.7</td>\n",
       "      <td>-0.332096</td>\n",
       "    </tr>\n",
       "    <tr>\n",
       "      <th>98</th>\n",
       "      <td>9.8</td>\n",
       "      <td>-0.113834</td>\n",
       "    </tr>\n",
       "    <tr>\n",
       "      <th>99</th>\n",
       "      <td>9.9</td>\n",
       "      <td>-0.132454</td>\n",
       "    </tr>\n",
       "  </tbody>\n",
       "</table>\n",
       "<p>100 rows × 2 columns</p>\n",
       "</div>\n",
       "      <button class=\"colab-df-convert\" onclick=\"convertToInteractive('df-b828d7bf-4dcc-45c7-a9f6-084aa1fa3e5b')\"\n",
       "              title=\"Convert this dataframe to an interactive table.\"\n",
       "              style=\"display:none;\">\n",
       "        \n",
       "  <svg xmlns=\"http://www.w3.org/2000/svg\" height=\"24px\"viewBox=\"0 0 24 24\"\n",
       "       width=\"24px\">\n",
       "    <path d=\"M0 0h24v24H0V0z\" fill=\"none\"/>\n",
       "    <path d=\"M18.56 5.44l.94 2.06.94-2.06 2.06-.94-2.06-.94-.94-2.06-.94 2.06-2.06.94zm-11 1L8.5 8.5l.94-2.06 2.06-.94-2.06-.94L8.5 2.5l-.94 2.06-2.06.94zm10 10l.94 2.06.94-2.06 2.06-.94-2.06-.94-.94-2.06-.94 2.06-2.06.94z\"/><path d=\"M17.41 7.96l-1.37-1.37c-.4-.4-.92-.59-1.43-.59-.52 0-1.04.2-1.43.59L10.3 9.45l-7.72 7.72c-.78.78-.78 2.05 0 2.83L4 21.41c.39.39.9.59 1.41.59.51 0 1.02-.2 1.41-.59l7.78-7.78 2.81-2.81c.8-.78.8-2.07 0-2.86zM5.41 20L4 18.59l7.72-7.72 1.47 1.35L5.41 20z\"/>\n",
       "  </svg>\n",
       "      </button>\n",
       "      \n",
       "  <style>\n",
       "    .colab-df-container {\n",
       "      display:flex;\n",
       "      flex-wrap:wrap;\n",
       "      gap: 12px;\n",
       "    }\n",
       "\n",
       "    .colab-df-convert {\n",
       "      background-color: #E8F0FE;\n",
       "      border: none;\n",
       "      border-radius: 50%;\n",
       "      cursor: pointer;\n",
       "      display: none;\n",
       "      fill: #1967D2;\n",
       "      height: 32px;\n",
       "      padding: 0 0 0 0;\n",
       "      width: 32px;\n",
       "    }\n",
       "\n",
       "    .colab-df-convert:hover {\n",
       "      background-color: #E2EBFA;\n",
       "      box-shadow: 0px 1px 2px rgba(60, 64, 67, 0.3), 0px 1px 3px 1px rgba(60, 64, 67, 0.15);\n",
       "      fill: #174EA6;\n",
       "    }\n",
       "\n",
       "    [theme=dark] .colab-df-convert {\n",
       "      background-color: #3B4455;\n",
       "      fill: #D2E3FC;\n",
       "    }\n",
       "\n",
       "    [theme=dark] .colab-df-convert:hover {\n",
       "      background-color: #434B5C;\n",
       "      box-shadow: 0px 1px 3px 1px rgba(0, 0, 0, 0.15);\n",
       "      filter: drop-shadow(0px 1px 2px rgba(0, 0, 0, 0.3));\n",
       "      fill: #FFFFFF;\n",
       "    }\n",
       "  </style>\n",
       "\n",
       "      <script>\n",
       "        const buttonEl =\n",
       "          document.querySelector('#df-b828d7bf-4dcc-45c7-a9f6-084aa1fa3e5b button.colab-df-convert');\n",
       "        buttonEl.style.display =\n",
       "          google.colab.kernel.accessAllowed ? 'block' : 'none';\n",
       "\n",
       "        async function convertToInteractive(key) {\n",
       "          const element = document.querySelector('#df-b828d7bf-4dcc-45c7-a9f6-084aa1fa3e5b');\n",
       "          const dataTable =\n",
       "            await google.colab.kernel.invokeFunction('convertToInteractive',\n",
       "                                                     [key], {});\n",
       "          if (!dataTable) return;\n",
       "\n",
       "          const docLinkHtml = 'Like what you see? Visit the ' +\n",
       "            '<a target=\"_blank\" href=https://colab.research.google.com/notebooks/data_table.ipynb>data table notebook</a>'\n",
       "            + ' to learn more about interactive tables.';\n",
       "          element.innerHTML = '';\n",
       "          dataTable['output_type'] = 'display_data';\n",
       "          await google.colab.output.renderOutput(dataTable, element);\n",
       "          const docLink = document.createElement('div');\n",
       "          docLink.innerHTML = docLinkHtml;\n",
       "          element.appendChild(docLink);\n",
       "        }\n",
       "      </script>\n",
       "    </div>\n",
       "  </div>\n",
       "  "
      ],
      "text/plain": [
       "      x         y\n",
       "0   0.0  0.198677\n",
       "1   0.1  0.484592\n",
       "2   0.2 -0.367602\n",
       "3   0.3  0.667027\n",
       "4   0.4  0.354572\n",
       "..  ...       ...\n",
       "95  9.5 -0.367354\n",
       "96  9.6 -0.342010\n",
       "97  9.7 -0.332096\n",
       "98  9.8 -0.113834\n",
       "99  9.9 -0.132454\n",
       "\n",
       "[100 rows x 2 columns]"
      ]
     },
     "execution_count": 24,
     "metadata": {},
     "output_type": "execute_result"
    }
   ],
   "source": [
    "import pandas as pd\n",
    "import seaborn as sns\n",
    "import matplotlib.pyplot as plt\n",
    "import numpy as np\n",
    "import numpy as np\n",
    "from sklearn.linear_model import LinearRegression\n",
    "from sklearn.metrics import mean_squared_error\n",
    "from sklearn.preprocessing import PolynomialFeatures\n",
    "from sklearn.preprocessing import StandardScaler\n",
    "from sklearn.model_selection import train_test_split\n",
    "\n",
    "\n",
    "data = pd.read_csv('/content/data_sin_noisy (1).csv')\n",
    "data"
   ]
  },
  {
   "cell_type": "markdown",
   "metadata": {
    "id": "Q5lyZEPtL5Ta"
   },
   "source": [
    "##1. Melakukan Split data train dan test"
   ]
  },
  {
   "cell_type": "code",
   "execution_count": 25,
   "metadata": {
    "id": "bPcsLYh3MOsA"
   },
   "outputs": [],
   "source": [
    "X = data[['x']].values\n",
    "y = data['y'].values\n",
    "\n",
    "sc_x = StandardScaler()\n",
    "sc_y = StandardScaler()\n",
    "X_std = sc_x.fit_transform(X)\n",
    "y_std = sc_y.fit_transform(y[:, np.newaxis]).flatten()\n",
    "\n",
    "X_train, X_test, y_train, y_test = train_test_split(X_std, y_std, test_size=0.20, random_state=0)"
   ]
  },
  {
   "cell_type": "markdown",
   "metadata": {
    "id": "clbkFhn5Moob"
   },
   "source": [
    "##2. Membuat Model linier regresi"
   ]
  },
  {
   "cell_type": "code",
   "execution_count": 26,
   "metadata": {
    "id": "YpN-k85vpLd4"
   },
   "outputs": [],
   "source": [
    "class LinearRegressionGD(object):\n",
    " \n",
    " def __init__(self, eta=0.001, n_iter=20):\n",
    "  self.eta = eta\n",
    "  self.n_iter = n_iter\n",
    " \n",
    " def fit(self, X, y):\n",
    "  self.w_ = np.zeros(1 + X.shape[1])\n",
    "  self.cost_ = []\n",
    " \n",
    " \n",
    "  for i in range(self.n_iter):\n",
    "    output = self.net_input(X)\n",
    "    errors = (y - output)\n",
    "    self.w_[1:] += self.eta * X.T.dot(errors)\n",
    "    self.w_[0] += self.eta * errors.sum()\n",
    "    cost = (errors**2).sum() / 2.0\n",
    "    self.cost_.append(cost)\n",
    "  return self\n",
    "\n",
    " def net_input(self, X):\n",
    "  return np.dot(X, self.w_[1:]) + self.w_[0]\n",
    " \n",
    " def predict(self, X):\n",
    "  return self.net_input(X)\n",
    "\n",
    " def coef(self, X):\n",
    "  return self.net_input(X)\n"
   ]
  },
  {
   "cell_type": "code",
   "execution_count": 27,
   "metadata": {
    "colab": {
     "base_uri": "https://localhost:8080/"
    },
    "id": "4w3WRTlUUIpU",
    "outputId": "d9c245a0-4089-4314-e1c9-4a4e25f63f54"
   },
   "outputs": [
    {
     "data": {
      "text/plain": [
       "<__main__.LinearRegressionGD at 0x7fed807e7c40>"
      ]
     },
     "execution_count": 27,
     "metadata": {},
     "output_type": "execute_result"
    }
   ],
   "source": [
    "lr = LinearRegressionGD()\n",
    "lr.fit(X_train, y_train)"
   ]
  },
  {
   "cell_type": "code",
   "execution_count": 28,
   "metadata": {
    "colab": {
     "base_uri": "https://localhost:8080/",
     "height": 279
    },
    "id": "ICsh_TUCWw62",
    "outputId": "5f4cda9f-7c9a-49b9-b409-f6e1faa694c6"
   },
   "outputs": [
    {
     "data": {
      "image/png": "[encoded data removed]",
      "text/plain": [
       "<Figure size 432x288 with 1 Axes>"
      ]
     },
     "metadata": {
      "needs_background": "light"
     },
     "output_type": "display_data"
    }
   ],
   "source": [
    "plt.plot(range(1, lr.n_iter+1), lr.cost_, '.')\n",
    "plt.ylabel('SSE')\n",
    "plt.xlabel('Epoch')\n",
    "plt.show()"
   ]
  },
  {
   "cell_type": "markdown",
   "metadata": {
    "id": "tr6ZAjurN9fw"
   },
   "source": [
    "**Melakukan hasil plotting data train dan fungsi regresi**"
   ]
  },
  {
   "cell_type": "code",
   "execution_count": 47,
   "metadata": {
    "colab": {
     "base_uri": "https://localhost:8080/",
     "height": 312
    },
    "id": "gieXZSZh2g8Q",
    "outputId": "9e227dae-29a8-447d-8f57-a406bf6e392d"
   },
   "outputs": [
    {
     "data": {
      "text/plain": [
       "Text(0.5, 0, 'x')"
      ]
     },
     "execution_count": 47,
     "metadata": {},
     "output_type": "execute_result"
    },
    {
     "data": {
      "image/png": "[encoded data removed]",
      "text/plain": [
       "<Figure size 432x288 with 1 Axes>"
      ]
     },
     "metadata": {
      "needs_background": "light"
     },
     "output_type": "display_data"
    }
   ],
   "source": [
    "kiri =X_std.min()-0.5; kanan = X_std.max()+0.5\n",
    "bawah =y_std.min()-0.5; atas = y_std.max()+0.5\n",
    "x_fit = np.linspace(kiri, kanan, 300).reshape(-1,1)\n",
    "y_fit = lr.predict(x_fit)\n",
    "\n",
    "plt.plot(x_fit,y_fit)\n",
    "plt.scatter(X_train,y_train)\n",
    "plt.title('Plotting perbandingan hasil prediksi terhadap train')\n",
    "plt.ylabel('y')\n",
    "plt.xlabel('x')"
   ]
  },
  {
   "cell_type": "markdown",
   "metadata": {
    "id": "tLd3inzPOR7B"
   },
   "source": [
    "**Menghitung nilai variasi, MSE dan Bias**"
   ]
  },
  {
   "cell_type": "code",
   "execution_count": 30,
   "metadata": {
    "colab": {
     "base_uri": "https://localhost:8080/"
    },
    "id": "RG6LhfFA01rC",
    "outputId": "e915b0b3-d5e4-4f02-d23a-5971e028408d"
   },
   "outputs": [
    {
     "name": "stdout",
     "output_type": "stream",
     "text": [
      "Nilai bias pada data test: -0.24866019926365063\n",
      "Nilai variansi pada data test: 0.0018316660253670611\n",
      "Nilai MSE pada data test: 0.6790522466858678\n"
     ]
    }
   ],
   "source": [
    "# Hitung nilai bias, variansi, dan MSE pada data train\n",
    "y_pred = lr.predict(X_test)\n",
    "\n",
    "\n",
    "# Hitung nilai bias, variansi, dan MSE pada data test\n",
    "bias_test = np.mean(y_pred - y_test)\n",
    "variance_test = np.var(y_pred)\n",
    "mse_test = mean_squared_error(y_test, y_pred)\n",
    "\n",
    "print(\"Nilai bias pada data test:\", bias_test)\n",
    "print(\"Nilai variansi pada data test:\", variance_test)\n",
    "print(\"Nilai MSE pada data test:\", mse_test)"
   ]
  },
  {
   "cell_type": "markdown",
   "metadata": {
    "id": "NsZXbG2YOctk"
   },
   "source": [
    "berdasarkan hasil perhitungan diatas nilai bias lebih besar dibandingkan varian sehingga dapat dikatakan model underfitting"
   ]
  },
  {
   "cell_type": "markdown",
   "metadata": {
    "id": "e6yvixVoF9V1"
   },
   "source": [
    "##2. linier regresi dengan orde 15"
   ]
  },
  {
   "cell_type": "code",
   "execution_count": 31,
   "metadata": {
    "id": "QrqHW45H7CHq"
   },
   "outputs": [],
   "source": [
    "import numpy as np\n",
    "from sklearn.linear_model import LinearRegression\n",
    "from sklearn.preprocessing import PolynomialFeatures\n",
    "\n",
    "# Create polynomial features\n",
    "poly = PolynomialFeatures(degree=15)\n",
    "x_train_poly = poly.fit_transform(X_train)\n",
    "x_test_poly = poly.transform(X_test)\n"
   ]
  },
  {
   "cell_type": "code",
   "execution_count": 32,
   "metadata": {
    "colab": {
     "base_uri": "https://localhost:8080/"
    },
    "id": "aoI-DCT--xTd",
    "outputId": "2a0fbea0-1d0a-4fe7-d695-d977a5e3e8a7"
   },
   "outputs": [
    {
     "name": "stdout",
     "output_type": "stream",
     "text": [
      "Model coefficients: [  0.           1.27980737   3.82073258  -5.62237915   7.43329715\n",
      "  17.69319223 -22.8908574  -27.5053621   23.65136985  21.17547997\n",
      " -12.12511574  -8.42344065   3.06959938   1.65501636  -0.30466542\n",
      "  -0.12610219]\n"
     ]
    }
   ],
   "source": [
    "from numpy.random import lognormal\n",
    "\n",
    "# Train linear regression model\n",
    "lrm = LinearRegression()\n",
    "lrm.fit(x_train_poly, y_train)\n",
    "\n",
    "# Make predictions on train and test data\n",
    "y_train_pred = lrm.predict(x_train_poly)\n",
    "y_test_pred = lrm.predict(x_test_poly)\n",
    "\n",
    "# Print model coefficients and R-squared value\n",
    "print(\"Model coefficients:\", lrm.coef_)"
   ]
  },
  {
   "cell_type": "markdown",
   "metadata": {
    "id": "04binqKKS0Mi"
   },
   "source": [
    "**Persamaan Linier Regresi orde 15 :**\n",
    "\n",
    ">F(x) = 0+ 1.2798 x1 + 3.8207 x2 -5.6224 x3 + 7.4333 x4 + 17.6932 x5 -22.8909 x6 -27.5054 x7 + 23.6514 x8 + 21.1755 x9  -12.1251 x10 -8.4234 x11 + 3.0696 x12 + 1.6550 x13 -0.3047 x14"
   ]
  },
  {
   "cell_type": "markdown",
   "metadata": {
    "id": "p0ZKhVfrTt8z"
   },
   "source": [
    "**Hasil Plotting fungsi dan data train**"
   ]
  },
  {
   "cell_type": "code",
   "execution_count": 33,
   "metadata": {
    "colab": {
     "base_uri": "https://localhost:8080/",
     "height": 282
    },
    "id": "95WgVdfdAUpS",
    "outputId": "d437b753-d2aa-4ad9-a762-15d9777901ff"
   },
   "outputs": [
    {
     "data": {
      "text/plain": [
       "<matplotlib.collections.PathCollection at 0x7fed80695580>"
      ]
     },
     "execution_count": 33,
     "metadata": {},
     "output_type": "execute_result"
    },
    {
     "data": {
      "image/png": "[encoded data removed]",
      "text/plain": [
       "<Figure size 432x288 with 1 Axes>"
      ]
     },
     "metadata": {
      "needs_background": "light"
     },
     "output_type": "display_data"
    }
   ],
   "source": [
    "plt.scatter(X_test,y_test_pred)\n",
    "plt.scatter(X_train,y_train, color='red')\n",
    "\n",
    "plt.title('Plotting perbandingan hasil prediksi terhadap train')\n",
    "plt.ylabel('y')\n",
    "plt.xlabel('x')"
   ]
  },
  {
   "cell_type": "markdown",
   "metadata": {
    "id": "qmY6NxuTT1VI"
   },
   "source": [
    "**Nilai Bias Variasi dan MSE**"
   ]
  },
  {
   "cell_type": "code",
   "execution_count": 34,
   "metadata": {
    "colab": {
     "base_uri": "https://localhost:8080/"
    },
    "id": "V92s_nZMC6wx",
    "outputId": "75d2c186-9643-4600-c7c5-a5a2aac39f94"
   },
   "outputs": [
    {
     "name": "stdout",
     "output_type": "stream",
     "text": [
      "Nilai bias pada data test: 0.03510659964117052\n",
      "Nilai variansi pada data test: 0.7344774553859135\n",
      "Nilai MSE pada data test: 0.24673214680492625\n"
     ]
    }
   ],
   "source": [
    "# Hitung nilai bias, variansi, dan MSE pada data train\n",
    "y_pred_model = lrm.predict(x_test_poly)\n",
    "\n",
    "# Hitung nilai bias, variansi, dan MSE pada data test\n",
    "bias_test = np.mean(y_pred_model - y_test)\n",
    "variance_test = np.var(y_pred_model)\n",
    "mse_test = mean_squared_error(y_test, y_pred_model)\n",
    "\n",
    "print(\"Nilai bias pada data test:\", bias_test)\n",
    "print(\"Nilai variansi pada data test:\", variance_test)\n",
    "print(\"Nilai MSE pada data test:\", mse_test)"
   ]
  },
  {
   "cell_type": "markdown",
   "metadata": {
    "id": "9Gf9ixtMYGlx"
   },
   "source": [
    "berdasarkan hasil hubungan antara varian dan bias hasil dari linier regresi orde 15 adalah overfitting karena nilai varian>>bias"
   ]
  },
  {
   "cell_type": "markdown",
   "metadata": {
    "id": "WEo-uJdGUkya"
   },
   "source": [
    "##3. Model linier regresi untuk orde 1 - 15"
   ]
  },
  {
   "cell_type": "code",
   "execution_count": 41,
   "metadata": {
    "colab": {
     "base_uri": "https://localhost:8080/"
    },
    "id": "XChT89-IGA5i",
    "outputId": "fbfa280a-41a1-4d80-81b3-1ad41313a799"
   },
   "outputs": [
    {
     "name": "stdout",
     "output_type": "stream",
     "text": [
      "Order 1: MSE = 0.24673214680492625\n",
      "           Variance = 0.7344774553859135\n",
      "            Bias = 0.6156\n",
      "Order 2: MSE = 0.24673214680492625\n",
      "           Variance = 0.7344774553859135\n",
      "            Bias = 0.6156\n",
      "Order 3: MSE = 0.24673214680492625\n",
      "           Variance = 0.7344774553859135\n",
      "            Bias = 0.6156\n",
      "Order 4: MSE = 0.24673214680492625\n",
      "           Variance = 0.7344774553859135\n",
      "            Bias = 0.6156\n",
      "Order 5: MSE = 0.24673214680492625\n",
      "           Variance = 0.7344774553859135\n",
      "            Bias = 0.6156\n",
      "Order 6: MSE = 0.24673214680492625\n",
      "           Variance = 0.7344774553859135\n",
      "            Bias = 0.6156\n",
      "Order 7: MSE = 0.24673214680492625\n",
      "           Variance = 0.7344774553859135\n",
      "            Bias = 0.6156\n",
      "Order 8: MSE = 0.24673214680492625\n",
      "           Variance = 0.7344774553859135\n",
      "            Bias = 0.6156\n",
      "Order 9: MSE = 0.24673214680492625\n",
      "           Variance = 0.7344774553859135\n",
      "            Bias = 0.6156\n",
      "Order 10: MSE = 0.24673214680492625\n",
      "           Variance = 0.7344774553859135\n",
      "            Bias = 0.6156\n",
      "Order 11: MSE = 0.24673214680492625\n",
      "           Variance = 0.7344774553859135\n",
      "            Bias = 0.6156\n",
      "Order 12: MSE = 0.24673214680492625\n",
      "           Variance = 0.7344774553859135\n",
      "            Bias = 0.6156\n",
      "Order 13: MSE = 0.24673214680492625\n",
      "           Variance = 0.7344774553859135\n",
      "            Bias = 0.6156\n",
      "Order 14: MSE = 0.24673214680492625\n",
      "           Variance = 0.7344774553859135\n",
      "            Bias = 0.6156\n",
      "Order 15: MSE = 0.24673214680492625\n",
      "           Variance = 0.7344774553859135\n",
      "            Bias = 0.6156\n"
     ]
    }
   ],
   "source": [
    "from sklearn.linear_model import LinearRegression\n",
    "from sklearn.preprocessing import PolynomialFeatures\n",
    "from sklearn.metrics import mean_squared_error\n",
    "import numpy as np\n",
    "\n",
    "# load data train dan test\n",
    "\n",
    "\n",
    "# inisialisasi variabel hasil regresi linier, mse, varian, dan bias\n",
    "mse_test = []\n",
    "var_test = []\n",
    "bias_test = []\n",
    "\n",
    "# loop untuk setiap orde polinomial\n",
    "for i in range(1, 16):\n",
    "    # membuat objek PolynomialFeatures\n",
    "    poly = PolynomialFeatures(degree=i)\n",
    "    model = LinearRegression().fit(x_train_poly, y_train)\n",
    "    \n",
    "    # memprediksi hasil regresi linier pada data train dan test\n",
    "    train_pred = model.predict(x_train_poly)\n",
    "    test_pred = model.predict(x_test_poly)\n",
    "    mse_test.append(mean_squared_error(y_test, test_pred))\n",
    "    var_test.append(np.var(test_pred))\n",
    "    bias_test.append(np.mean((y_test - np.mean(test_pred))**2))\n",
    "    \n",
    "\n",
    "# mencetak MSE, varian, dan bias pada data train dan test untuk setiap orde polinomial\n",
    "\n",
    "\n",
    "for i in range(15):\n",
    "    print(f\"Order {i+1}: MSE = {mse_test[i]}\")\n",
    "    print(f\"           Variance = {var_test[i]}\")\n",
    "    print(f\"            Bias = {bias_test[i]:.4f}\")"
   ]
  },
  {
   "cell_type": "code",
   "execution_count": 36,
   "metadata": {
    "id": "hXNz6EBhVmDZ"
   },
   "outputs": [],
   "source": [
    "mse = []\n",
    "varian = []\n",
    "bias = []\n",
    "orde = []\n",
    "for i in range(15):\n",
    "    m = mse_test[i]\n",
    "    v = var_test[i]\n",
    "    b = bias_test[i]\n",
    "    o = i+1\n",
    "    mse.append(m)\n",
    "    varian.append(v)\n",
    "    bias.append(b)\n",
    "    orde.append(o)"
   ]
  },
  {
   "cell_type": "code",
   "execution_count": 44,
   "metadata": {
    "colab": {
     "base_uri": "https://localhost:8080/",
     "height": 312
    },
    "id": "1nCzHn9vWSPj",
    "outputId": "d9d0f49a-72c0-4db5-ff38-48f474a9b122"
   },
   "outputs": [
    {
     "data": {
      "text/plain": [
       "Text(0.5, 0, 'Orde')"
      ]
     },
     "execution_count": 44,
     "metadata": {},
     "output_type": "execute_result"
    },
    {
     "data": {
      "image/png": "[encoded data removed]",
      "text/plain": [
       "<Figure size 432x288 with 1 Axes>"
      ]
     },
     "metadata": {
      "needs_background": "light"
     },
     "output_type": "display_data"
    }
   ],
   "source": [
    "plt.bar(orde,bias)\n",
    "plt.ylim(0.61,0.62)\n",
    "plt.title('Plotting nilai bias setiap orde')\n",
    "plt.ylabel('Bias')\n",
    "plt.xlabel('Orde')"
   ]
  },
  {
   "cell_type": "code",
   "execution_count": 45,
   "metadata": {
    "colab": {
     "base_uri": "https://localhost:8080/",
     "height": 312
    },
    "id": "iq_tu5pJZhpD",
    "outputId": "c70449b9-e9cd-4ae7-c658-fc6dca43ce13"
   },
   "outputs": [
    {
     "data": {
      "text/plain": [
       "Text(0.5, 0, 'Orde')"
      ]
     },
     "execution_count": 45,
     "metadata": {},
     "output_type": "execute_result"
    },
    {
     "data": {
      "image/png": "[encoded data removed]",
      "text/plain": [
       "<Figure size 432x288 with 1 Axes>"
      ]
     },
     "metadata": {
      "needs_background": "light"
     },
     "output_type": "display_data"
    }
   ],
   "source": [
    "plt.bar(orde,varian)\n",
    "plt.ylim(0.73,0.74)\n",
    "plt.title('Plotting nilai varian setiap orde')\n",
    "plt.ylabel('Varian')\n",
    "plt.xlabel('Orde')"
   ]
  },
  {
   "cell_type": "code",
   "execution_count": 46,
   "metadata": {
    "colab": {
     "base_uri": "https://localhost:8080/",
     "height": 367
    },
    "id": "Eko0sBR9WItu",
    "outputId": "0bfe4455-7b4b-4d1f-babe-9c3f5beed3f2"
   },
   "outputs": [
    {
     "name": "stderr",
     "output_type": "stream",
     "text": [
      "<ipython-input-46-a23bdc1b6df5>:2: UserWarning: Attempting to set identical low and high ylims makes transformation singular; automatically expanding.\n",
      "  plt.ylim(0.24,0.24)\n"
     ]
    },
    {
     "data": {
      "text/plain": [
       "Text(0.5, 0, 'Orde')"
      ]
     },
     "execution_count": 46,
     "metadata": {},
     "output_type": "execute_result"
    },
    {
     "data": {
      "image/png": "[encoded data removed]",
      "text/plain": [
       "<Figure size 432x288 with 1 Axes>"
      ]
     },
     "metadata": {
      "needs_background": "light"
     },
     "output_type": "display_data"
    }
   ],
   "source": [
    "plt.bar(orde,mse)\n",
    "plt.ylim(0.24,0.24)\n",
    "plt.title('Plotting nilai MSE setiap orde')\n",
    "plt.ylabel('mse')\n",
    "plt.xlabel('Orde')"
   ]
  }
 ],
 "metadata": {
  "colab": {
   "provenance": []
  },
  "kernelspec": {
   "display_name": "Python 3 (ipykernel)",
   "language": "python",
   "name": "python3"
  },
  "language_info": {
   "codemirror_mode": {
    "name": "ipython",
    "version": 3
   },
   "file_extension": ".py",
   "mimetype": "text/x-python",
   "name": "python",
   "nbconvert_exporter": "python",
   "pygments_lexer": "ipython3",
   "version": "3.9.12"
  }
 },
 "nbformat": 4,
 "nbformat_minor": 1
}
